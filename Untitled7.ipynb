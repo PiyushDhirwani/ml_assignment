{
  "nbformat": 4,
  "nbformat_minor": 0,
  "metadata": {
    "colab": {
      "provenance": []
    },
    "kernelspec": {
      "name": "python3",
      "display_name": "Python 3"
    },
    "language_info": {
      "name": "python"
    }
  },
  "cells": [
    {
      "cell_type": "markdown",
      "source": [
        "Question 1"
      ],
      "metadata": {
        "id": "wr4E4OmmZi6a"
      }
    },
    {
      "cell_type": "markdown",
      "source": [
        "find number of multiplication between a(n, k) and b(k, m) matrix\n",
        "\n",
        "Ans: Condition of multiplication is first matrix's column is equal to second matrix row's\n",
        "     so according to both sizes number of muliplication should be nxkxm"
      ],
      "metadata": {
        "id": "47evh-YlbO79"
      }
    },
    {
      "cell_type": "markdown",
      "source": [
        "Question 2"
      ],
      "metadata": {
        "id": "T5aenRqYbjDt"
      }
    },
    {
      "cell_type": "code",
      "source": [
        "import numpy as np\n",
        "import time\n",
        "\n",
        "def matrix_multiply(arr,brr):\n",
        "  st=time.time()\n",
        "  if len(arr[0]) != len(brr):\n",
        "    return \"Not Possible\"\n",
        "  ans=[]\n",
        "  for i in range(len(arr)):\n",
        "    ans.append([0]*len(brr[0]))\n",
        "  for i in range(len(arr)):\n",
        "    for j in range(len(brr[0])):\n",
        "      for k in range(len(brr)):\n",
        "        ans[i][j]+=A[i][k]*B[k][j]\n",
        "  et=time.time()\n",
        "  print(\"time take for general method\"+str(et-st))\n",
        "  return ans\n",
        "\n",
        "def matrix_multiplynp(arr,brr):\n",
        "  st=time.time()\n",
        "  res = np.dot(arr,brr)\n",
        "  et=time.time()\n",
        "  print(\"time take for numpy method\"+str(et-st))\n",
        "  return res\n"
      ],
      "metadata": {
        "id": "jrMcEaW8bm-w"
      },
      "execution_count": 21,
      "outputs": []
    },
    {
      "cell_type": "code",
      "source": [
        "A = [[12, 7, 3],\n",
        "    [4, 5, 6],\n",
        "    [7, 8, 9]]\n",
        "B = [[5, 8, 1, 2],\n",
        "    [6, 7, 3, 0],\n",
        "    [4, 5, 9, 1]]\n",
        "\n",
        "\n",
        "matrix_multiply(A,B)"
      ],
      "metadata": {
        "colab": {
          "base_uri": "https://localhost:8080/"
        },
        "id": "Km-5QBYEdMeD",
        "outputId": "e629b822-6980-4ce6-abc7-87e3ab67fe31"
      },
      "execution_count": 22,
      "outputs": [
        {
          "output_type": "stream",
          "name": "stdout",
          "text": [
            "time take for general method2.9087066650390625e-05\n"
          ]
        },
        {
          "output_type": "execute_result",
          "data": {
            "text/plain": [
              "[[114, 160, 60, 27], [74, 97, 73, 14], [119, 157, 112, 23]]"
            ]
          },
          "metadata": {},
          "execution_count": 22
        }
      ]
    },
    {
      "cell_type": "code",
      "source": [
        "A = [[12, 7, 3],\n",
        "    [4, 5, 6],\n",
        "    [7, 8, 9]]\n",
        "B = [[5, 8, 1, 2],\n",
        "    [6, 7, 3, 0],\n",
        "    [4, 5, 9, 1]]\n",
        "\n",
        "\n",
        "matrix_multiplynp(A,B)"
      ],
      "metadata": {
        "colab": {
          "base_uri": "https://localhost:8080/"
        },
        "id": "-zqOrGMpfqm-",
        "outputId": "193571c3-a3ab-4fab-b4db-9d6b206d741b"
      },
      "execution_count": 23,
      "outputs": [
        {
          "output_type": "stream",
          "name": "stdout",
          "text": [
            "time take for numpy method0.00038695335388183594\n"
          ]
        },
        {
          "output_type": "execute_result",
          "data": {
            "text/plain": [
              "array([[114, 160,  60,  27],\n",
              "       [ 74,  97,  73,  14],\n",
              "       [119, 157, 112,  23]])"
            ]
          },
          "metadata": {},
          "execution_count": 23
        }
      ]
    },
    {
      "cell_type": "markdown",
      "source": [
        "it's hard to check which one is faster but from the \"time\" library we can see general method is faster but on the other grounds numpy with work faster because as the matrix size increase brute force approach will have worst time complexity"
      ],
      "metadata": {
        "id": "_SYmvnz9f9lj"
      }
    },
    {
      "cell_type": "markdown",
      "source": [
        "Question 3"
      ],
      "metadata": {
        "id": "h4gKLh0j9cdI"
      }
    },
    {
      "cell_type": "code",
      "source": [
        "import time\n",
        "\n",
        "def medianwithbruteforce(arr,temp):\n",
        "  curr_max=-1e9\n",
        "  max_ind=-1\n",
        "  n=len(arr)\n",
        "  cnt=0\n",
        "  if n%2==0:\n",
        "    for i in range(n):\n",
        "      curr_max=-1e9\n",
        "      for j in range(n):\n",
        "        if curr_max<temp[j]:\n",
        "          max_ind=j\n",
        "          curr_max=temp[j]\n",
        "      temp[max_ind]=-1e9\n",
        "      cnt+=1\n",
        "      if cnt==(n/2):\n",
        "        firstlargest=arr[max_ind]\n",
        "      elif cnt==(n/2)+1:\n",
        "        secondlargest=arr[max_ind]\n",
        "    return (firstlargest+secondlargest)/2\n",
        "  else:\n",
        "    for i in range(n):\n",
        "      curr_max=-1e9\n",
        "      for j in range(n):\n",
        "        if curr_max<temp[j]:\n",
        "          max_ind=j\n",
        "          curr_max=temp[j]\n",
        "      temp[max_ind]=-1e9\n",
        "      cnt+=1\n",
        "      if cnt==int(n/2)+1:\n",
        "        firstlargest=arr[max_ind]\n",
        "    return firstlargest\n",
        "\n",
        "\n",
        "st1 = time.time()\n",
        "print(medianwithbruteforce([5,2,10,1,6],[5,2,10,1,6]))\n",
        "et1 = time.time()\n"
      ],
      "metadata": {
        "colab": {
          "base_uri": "https://localhost:8080/"
        },
        "id": "XmMnhyQ29jcw",
        "outputId": "5057ee2c-403a-4d16-82d9-d12ffc441817"
      },
      "execution_count": 24,
      "outputs": [
        {
          "output_type": "stream",
          "name": "stdout",
          "text": [
            "5\n"
          ]
        }
      ]
    },
    {
      "cell_type": "code",
      "source": [
        "def medianwithsorting(arr):\n",
        "  arr.sort()\n",
        "  n=len(arr)\n",
        "  if n%2==0:\n",
        "    return (arr[int(n/2)]+arr[int(n/2)-1])/2\n",
        "  else:\n",
        "    return arr[int(n/2)]\n",
        "\n",
        "st2 = time.time()\n",
        "print(medianwithsorting([5,2,10,1,6]))\n",
        "et2 = time.time()"
      ],
      "metadata": {
        "colab": {
          "base_uri": "https://localhost:8080/"
        },
        "id": "BY6e9S55aAWR",
        "outputId": "c126a119-769a-4a3e-f3b7-d456be2c9044"
      },
      "execution_count": 25,
      "outputs": [
        {
          "output_type": "stream",
          "name": "stdout",
          "text": [
            "5\n"
          ]
        }
      ]
    },
    {
      "cell_type": "code",
      "source": [
        "import numpy as np\n",
        "\n",
        "st3 = time.time()\n",
        "print(np.median([5,2,10,1,6]))\n",
        "et3 = time.time()"
      ],
      "metadata": {
        "colab": {
          "base_uri": "https://localhost:8080/"
        },
        "id": "EkLD3ZzgcZKv",
        "outputId": "066819fd-195d-4f72-efd6-9edf001429ed"
      },
      "execution_count": 26,
      "outputs": [
        {
          "output_type": "stream",
          "name": "stdout",
          "text": [
            "5.0\n"
          ]
        }
      ]
    },
    {
      "cell_type": "code",
      "source": [
        "print(et1-st1) # with brute force method that is n^2 time complexity\n",
        "print(et2-st2) # with sorting that is nlogn time complexity\n",
        "print(et3-st3) # with np.median"
      ],
      "metadata": {
        "colab": {
          "base_uri": "https://localhost:8080/"
        },
        "id": "MeT_iQ21dRJC",
        "outputId": "b51de829-0e8d-495e-bfdb-228cec81e043"
      },
      "execution_count": 27,
      "outputs": [
        {
          "output_type": "stream",
          "name": "stdout",
          "text": [
            "0.0010213851928710938\n",
            "0.0014078617095947266\n",
            "0.002941608428955078\n"
          ]
        }
      ]
    },
    {
      "cell_type": "markdown",
      "source": [
        "Question 4"
      ],
      "metadata": {
        "id": "dV2LulRmD65c"
      }
    },
    {
      "cell_type": "code",
      "source": [
        "from math import sin,cos\n",
        "import numpy as np\n",
        "import jax.numpy as jnp\n",
        "from jax import grad\n",
        "\n",
        "\n",
        "\n",
        "def f(x,y):\n",
        "  return y*(x**2)+(y**3)*sin(x)\n",
        "\n",
        "def dfx(x):\n",
        "  return 2*x+cos(x)\n",
        "\n",
        "def dfy(y):\n",
        "  return 1+3*(y**2)*sin(1)\n",
        "\n",
        "print(dfx(1),dfy(1))\n"
      ],
      "metadata": {
        "colab": {
          "base_uri": "https://localhost:8080/"
        },
        "id": "5CzPRuXmD2bh",
        "outputId": "579371fc-824a-47c3-99b4-d42b0db6984d"
      },
      "execution_count": 28,
      "outputs": [
        {
          "output_type": "stream",
          "name": "stdout",
          "text": [
            "2.5403023058681398 3.5244129544236893\n"
          ]
        }
      ]
    },
    {
      "cell_type": "markdown",
      "source": [
        "Question 5"
      ],
      "metadata": {
        "id": "mRYqVMVH5Nko"
      }
    },
    {
      "cell_type": "markdown",
      "source": [
        "Calculating it for (x,y) -> (1,1)"
      ],
      "metadata": {
        "id": "MUnnHW3lN8FY"
      }
    },
    {
      "cell_type": "code",
      "source": [
        "# for x=1 >>> f(1,y) = y+(y**3)*sin(1)\n",
        "\n",
        "def fy(y):\n",
        "  return y+(y**3)*sin(1)\n",
        "\n",
        "\n",
        "# for y=1 >>> f(x,1) = x**2+sin(x)\n",
        "def fx(x):\n",
        "  return x**2+jnp.sin(x)\n",
        "\n"
      ],
      "metadata": {
        "id": "HvMa8ndZD2Yr"
      },
      "execution_count": 29,
      "outputs": []
    },
    {
      "cell_type": "code",
      "source": [
        "dfy=grad(fy)\n",
        "dfy(1.)"
      ],
      "metadata": {
        "colab": {
          "base_uri": "https://localhost:8080/"
        },
        "id": "8ZIMEBxCD2T7",
        "outputId": "511434cd-c0a7-45c4-e649-e2e2b1b69831"
      },
      "execution_count": 30,
      "outputs": [
        {
          "output_type": "stream",
          "name": "stderr",
          "text": [
            "WARNING:jax._src.lib.xla_bridge:No GPU/TPU found, falling back to CPU. (Set TF_CPP_MIN_LOG_LEVEL=0 and rerun for more info.)\n"
          ]
        },
        {
          "output_type": "execute_result",
          "data": {
            "text/plain": [
              "DeviceArray(3.5244129, dtype=float32, weak_type=True)"
            ]
          },
          "metadata": {},
          "execution_count": 30
        }
      ]
    },
    {
      "cell_type": "code",
      "source": [
        "dfx=grad(fx)\n",
        "dfx(1.)"
      ],
      "metadata": {
        "colab": {
          "base_uri": "https://localhost:8080/"
        },
        "id": "lH1s8CP4D2RY",
        "outputId": "42fbc24a-c79d-4342-9bab-4e6d6e0d6453"
      },
      "execution_count": 31,
      "outputs": [
        {
          "output_type": "execute_result",
          "data": {
            "text/plain": [
              "DeviceArray(2.5403023, dtype=float32, weak_type=True)"
            ]
          },
          "metadata": {},
          "execution_count": 31
        }
      ]
    },
    {
      "cell_type": "markdown",
      "source": [
        "Question 6"
      ],
      "metadata": {
        "id": "8Gz_J2PItD7D"
      }
    },
    {
      "cell_type": "code",
      "source": [
        "import sympy as sy"
      ],
      "metadata": {
        "id": "_ki2KbJYD2N-"
      },
      "execution_count": 32,
      "outputs": []
    },
    {
      "cell_type": "code",
      "source": [
        "def f(x,y):\n",
        "  return y*(x**2)+(y**3)*(sy.sin(x))\n",
        "\n",
        "x=sy.Symbol('x')\n",
        "y=sy.Symbol('y')\n",
        "\n",
        "\n",
        "def dfx(x,y):\n",
        "  return sy.diff(f(x,y),x)\n",
        "\n",
        "def dfy(x,y):\n",
        "  return sy.diff(f(x,y),y)"
      ],
      "metadata": {
        "id": "2M_m7m6jD2L3"
      },
      "execution_count": 33,
      "outputs": []
    },
    {
      "cell_type": "code",
      "source": [
        "dfx(x,y)"
      ],
      "metadata": {
        "colab": {
          "base_uri": "https://localhost:8080/",
          "height": 39
        },
        "id": "bVEPiOvID2HN",
        "outputId": "cbfbe7a2-8a15-44da-c586-8f6e99ab11e7"
      },
      "execution_count": 34,
      "outputs": [
        {
          "output_type": "execute_result",
          "data": {
            "text/plain": [
              "2*x*y + y**3*cos(x)"
            ],
            "text/latex": "$\\displaystyle 2 x y + y^{3} \\cos{\\left(x \\right)}$"
          },
          "metadata": {},
          "execution_count": 34
        }
      ]
    },
    {
      "cell_type": "code",
      "source": [
        "dfy(x,y)"
      ],
      "metadata": {
        "colab": {
          "base_uri": "https://localhost:8080/",
          "height": 39
        },
        "id": "8VR1WU-UD2ET",
        "outputId": "668a6886-0f64-4b8e-8dd9-44ebef263005"
      },
      "execution_count": 35,
      "outputs": [
        {
          "output_type": "execute_result",
          "data": {
            "text/plain": [
              "x**2 + 3*y**2*sin(x)"
            ],
            "text/latex": "$\\displaystyle x^{2} + 3 y^{2} \\sin{\\left(x \\right)}$"
          },
          "metadata": {},
          "execution_count": 35
        }
      ]
    },
    {
      "cell_type": "code",
      "source": [
        "dfx(x,y).subs(x,1).subs(y,1)"
      ],
      "metadata": {
        "colab": {
          "base_uri": "https://localhost:8080/",
          "height": 37
        },
        "id": "DtHAhPJorxb4",
        "outputId": "a36f3217-5b17-411c-f349-ff089454c39d"
      },
      "execution_count": 36,
      "outputs": [
        {
          "output_type": "execute_result",
          "data": {
            "text/plain": [
              "cos(1) + 2"
            ],
            "text/latex": "$\\displaystyle \\cos{\\left(1 \\right)} + 2$"
          },
          "metadata": {},
          "execution_count": 36
        }
      ]
    },
    {
      "cell_type": "code",
      "source": [
        "dfy(x,y).subs(x,1).subs(y,1)"
      ],
      "metadata": {
        "colab": {
          "base_uri": "https://localhost:8080/",
          "height": 37
        },
        "id": "Zw6Q9TaurxZT",
        "outputId": "d31250a9-9680-408c-9eb3-30b78127387c"
      },
      "execution_count": 37,
      "outputs": [
        {
          "output_type": "execute_result",
          "data": {
            "text/plain": [
              "1 + 3*sin(1)"
            ],
            "text/latex": "$\\displaystyle 1 + 3 \\sin{\\left(1 \\right)}$"
          },
          "metadata": {},
          "execution_count": 37
        }
      ]
    },
    {
      "cell_type": "markdown",
      "source": [
        "Question 7"
      ],
      "metadata": {
        "id": "3kMMSEB5j-BH"
      }
    },
    {
      "cell_type": "code",
      "source": [
        "batch=list(range(2022,2026))\n",
        "branch=[\"Chem.\",\"Civil\",\"Elect.\",\"MSE\",\"CSE\"]\n",
        "no_of_students=5\n",
        "mark={\"physics\":75,\"chemiatry\":9,\"math\":89}\n",
        "student_dict = {\"roll_no.\": 1,\"name\": \"somthing\"}\n",
        "db = {}\n",
        "for year in batch:\n",
        "    db[year] = {}\n",
        "    for branch in branch:\n",
        "        information = student_dict\n",
        "        information['roll_no.'] = random.randint(1, 100)\n",
        "        information['name'] = \"\"\n",
        "        information['marks'] = mark\n",
        "        db[year][branch] = information\n",
        "print(db[2023])"
      ],
      "metadata": {
        "colab": {
          "base_uri": "https://localhost:8080/"
        },
        "id": "9jk3spyDj__G",
        "outputId": "040216aa-6262-4de6-bfd2-2ca0989c5fe2"
      },
      "execution_count": 38,
      "outputs": [
        {
          "output_type": "stream",
          "name": "stdout",
          "text": [
            "{'C': {'roll_no.': 9, 'name': '', 'marks': {'physics': 75, 'chemiatry': 9, 'math': 89}}, 'S': {'roll_no.': 9, 'name': '', 'marks': {'physics': 75, 'chemiatry': 9, 'math': 89}}, 'E': {'roll_no.': 9, 'name': '', 'marks': {'physics': 75, 'chemiatry': 9, 'math': 89}}}\n"
          ]
        }
      ]
    },
    {
      "cell_type": "markdown",
      "source": [
        "Question 8"
      ],
      "metadata": {
        "id": "Thaln5eNkAgO"
      }
    },
    {
      "cell_type": "code",
      "source": [
        "class Database:\n",
        "    def __init__(self):\n",
        "        self.year_list: self.Year = []\n",
        "    \n",
        "    def create_year(self, year_str):\n",
        "        year = self.Year(year_str)\n",
        "        self.year_list.append(year)\n",
        "    \n",
        "    def get_year_list(self):\n",
        "        return self.year_list\n",
        "    \n",
        "    \n",
        "    class Year:\n",
        "        def __init__(self, year):\n",
        "            self.year = year\n",
        "            self.branch_list: self.Branch = []\n",
        "        \n",
        "        def create_branch(self, branch_name):\n",
        "            branch = self.Branch(branch_name)\n",
        "            self.branch_list.append(branch)\n",
        "        \n",
        "        def get_branch(self):\n",
        "            return self.branch_list\n",
        "\n",
        "        class Branch:\n",
        "            def __init__(self, branch):\n",
        "                self.branch = branch\n",
        "                self.student_list: self.Student = []\n",
        "                \n",
        "            def get_branch_name(self):\n",
        "                return self.branch\n",
        "                \n",
        "            def create_student(self, name, roll_number):\n",
        "                student = self.Student(name, roll_number)\n",
        "                self.student_list.append(student)\n",
        "            \n",
        "            def get_student_list(self):\n",
        "                return self.student_list\n",
        "\n",
        "            class Student():\n",
        "                def __init__(self, name, roll_number):\n",
        "                    self.name = name\n",
        "                    self.roll_number = roll_number\n",
        "                    self.subject_list: self.Subject = []\n",
        "                    \n",
        "                def create_subject(self, name, marks):\n",
        "                    subject = self.Subject(name, marks)\n",
        "                    self.subject_list.append(subject)\n",
        "                    \n",
        "                class Subject:\n",
        "                    def __init__(self, name, marks):\n",
        "                        self.subject_name = name\n",
        "                        self.marks = marks  "
      ],
      "metadata": {
        "id": "hWQG9Of-kDGT"
      },
      "execution_count": 39,
      "outputs": []
    },
    {
      "cell_type": "markdown",
      "source": [
        "Question 9"
      ],
      "metadata": {
        "id": "rODPq8AbHHTO"
      }
    },
    {
      "cell_type": "code",
      "execution_count": 40,
      "metadata": {
        "id": "oGfuF2gEFNST"
      },
      "outputs": [],
      "source": [
        "import numpy as np\n",
        "import matplotlib.pyplot as plt"
      ]
    },
    {
      "cell_type": "code",
      "source": [
        "x=np.arange(0.5,100,0.5)\n",
        "y1=x\n",
        "y2=np.power(x, 2)\n",
        "y3=np.power(x, 3)/100\n",
        "y4=np.sin(x)/x\n",
        "y5=np.log(x)\n",
        "y6=np.exp(x)\n",
        "\n",
        "plt.plot(x,y1)\n",
        "plt.show()\n",
        "\n",
        "plt.plot(x,y2)\n",
        "plt.show()\n",
        "\n",
        "plt.plot(x,y3)\n",
        "plt.show()\n",
        "\n",
        "plt.plot(x,y4)\n",
        "plt.show()\n",
        "\n",
        "plt.plot(x,y5)\n",
        "plt.show()\n",
        "\n",
        "plt.plot(x,y6)\n",
        "plt.show()"
      ],
      "metadata": {
        "colab": {
          "base_uri": "https://localhost:8080/",
          "height": 1000
        },
        "id": "HZxN7SOwFWmn",
        "outputId": "43258460-355d-4182-8271-88133d6a0b77"
      },
      "execution_count": 41,
      "outputs": [
        {
          "output_type": "display_data",
          "data": {
            "text/plain": [
              "<Figure size 432x288 with 1 Axes>"
            ],
            "image/png": "[encoded data removed]"
          },
          "metadata": {
            "needs_background": "light"
          }
        },
        {
          "output_type": "display_data",
          "data": {
            "text/plain": [
              "<Figure size 432x288 with 1 Axes>"
            ],
            "image/png": "[encoded data removed]"
          },
          "metadata": {
            "needs_background": "light"
          }
        },
        {
          "output_type": "display_data",
          "data": {
            "text/plain": [
              "<Figure size 432x288 with 1 Axes>"
            ],
            "image/png": "[encoded data removed]"
          },
          "metadata": {
            "needs_background": "light"
          }
        },
        {
          "output_type": "display_data",
          "data": {
            "text/plain": [
              "<Figure size 432x288 with 1 Axes>"
            ],
            "image/png": "[encoded data removed]"
          },
          "metadata": {
            "needs_background": "light"
          }
        },
        {
          "output_type": "display_data",
          "data": {
            "text/plain": [
              "<Figure size 432x288 with 1 Axes>"
            ],
            "image/png": "[encoded data removed]"
          },
          "metadata": {
            "needs_background": "light"
          }
        },
        {
          "output_type": "display_data",
          "data": {
            "text/plain": [
              "<Figure size 432x288 with 1 Axes>"
            ],
            "image/png": "[encoded data removed]"
          },
          "metadata": {
            "needs_background": "light"
          }
        }
      ]
    },
    {
      "cell_type": "markdown",
      "source": [
        "Question 10"
      ],
      "metadata": {
        "id": "JsxFmCK5IxTl"
      }
    },
    {
      "cell_type": "code",
      "source": [
        "import random\n",
        "matrix=np.random.uniform(1,2,(20,5))\n",
        "matrix"
      ],
      "metadata": {
        "colab": {
          "base_uri": "https://localhost:8080/"
        },
        "id": "qiN855lQG1v5",
        "outputId": "91e15616-c816-4518-f7b9-709f5ab2446d"
      },
      "execution_count": 42,
      "outputs": [
        {
          "output_type": "execute_result",
          "data": {
            "text/plain": [
              "array([[1.83511319, 1.89261149, 1.71031648, 1.87523808, 1.03867357],\n",
              "       [1.33903406, 1.8363769 , 1.11945693, 1.41272713, 1.17245502],\n",
              "       [1.85406272, 1.57708367, 1.33042895, 1.55441652, 1.2352412 ],\n",
              "       [1.76358622, 1.5610284 , 1.4029865 , 1.40617977, 1.87723508],\n",
              "       [1.70201141, 1.66357863, 1.90890439, 1.37021702, 1.26179698],\n",
              "       [1.75442592, 1.1310885 , 1.9296987 , 1.5992172 , 1.7669964 ],\n",
              "       [1.31176948, 1.36534966, 1.51500614, 1.05852726, 1.07594093],\n",
              "       [1.12106443, 1.41394072, 1.98719322, 1.24765587, 1.21541142],\n",
              "       [1.34240385, 1.54096021, 1.34639835, 1.24601595, 1.77034211],\n",
              "       [1.79559675, 1.18603343, 1.01987048, 1.58560486, 1.51523538],\n",
              "       [1.74181983, 1.22833639, 1.08108679, 1.51366032, 1.20393493],\n",
              "       [1.56784341, 1.86700868, 1.08493   , 1.5148853 , 1.34050436],\n",
              "       [1.22044592, 1.20355992, 1.37739064, 1.95806616, 1.01080242],\n",
              "       [1.23006935, 1.75618102, 1.94391567, 1.39383733, 1.37392034],\n",
              "       [1.51521904, 1.1495934 , 1.54385602, 1.79177041, 1.28841717],\n",
              "       [1.93574505, 1.09727221, 1.1234057 , 1.0168139 , 1.03514302],\n",
              "       [1.66375364, 1.89275279, 1.9161416 , 1.50611953, 1.60546163],\n",
              "       [1.7842248 , 1.42783457, 1.79256808, 1.74882669, 1.59398361],\n",
              "       [1.99717242, 1.03605595, 1.74787312, 1.37564789, 1.3212715 ],\n",
              "       [1.68131432, 1.08699138, 1.81710352, 1.34118936, 1.21756432]])"
            ]
          },
          "metadata": {},
          "execution_count": 42
        }
      ]
    },
    {
      "cell_type": "code",
      "source": [
        "import pandas as pd\n",
        "\n",
        "rw = list(range(1,21))\n",
        "col = ['a', 'b', 'c', 'd', 'e']\n",
        "\n",
        "df = pd.DataFrame(matrix, rw,col)\n",
        "df"
      ],
      "metadata": {
        "colab": {
          "base_uri": "https://localhost:8080/",
          "height": 677
        },
        "id": "ygo9pPUDIlzc",
        "outputId": "4a250bf4-3f4c-44e8-8ca9-82f2513774c9"
      },
      "execution_count": 45,
      "outputs": [
        {
          "output_type": "execute_result",
          "data": {
            "text/plain": [
              "           a         b         c         d         e\n",
              "1   1.835113  1.892611  1.710316  1.875238  1.038674\n",
              "2   1.339034  1.836377  1.119457  1.412727  1.172455\n",
              "3   1.854063  1.577084  1.330429  1.554417  1.235241\n",
              "4   1.763586  1.561028  1.402987  1.406180  1.877235\n",
              "5   1.702011  1.663579  1.908904  1.370217  1.261797\n",
              "6   1.754426  1.131089  1.929699  1.599217  1.766996\n",
              "7   1.311769  1.365350  1.515006  1.058527  1.075941\n",
              "8   1.121064  1.413941  1.987193  1.247656  1.215411\n",
              "9   1.342404  1.540960  1.346398  1.246016  1.770342\n",
              "10  1.795597  1.186033  1.019870  1.585605  1.515235\n",
              "11  1.741820  1.228336  1.081087  1.513660  1.203935\n",
              "12  1.567843  1.867009  1.084930  1.514885  1.340504\n",
              "13  1.220446  1.203560  1.377391  1.958066  1.010802\n",
              "14  1.230069  1.756181  1.943916  1.393837  1.373920\n",
              "15  1.515219  1.149593  1.543856  1.791770  1.288417\n",
              "16  1.935745  1.097272  1.123406  1.016814  1.035143\n",
              "17  1.663754  1.892753  1.916142  1.506120  1.605462\n",
              "18  1.784225  1.427835  1.792568  1.748827  1.593984\n",
              "19  1.997172  1.036056  1.747873  1.375648  1.321271\n",
              "20  1.681314  1.086991  1.817104  1.341189  1.217564"
            ],
            "text/html": [
              "\n",
              "  <div id=\"df-90ccddf7-5b5e-44d0-b351-d9a2976a9bcc\">\n",
              "    <div class=\"colab-df-container\">\n",
              "      <div>\n",
              "<style scoped>\n",
              "    .dataframe tbody tr th:only-of-type {\n",
              "        vertical-align: middle;\n",
              "    }\n",
              "\n",
              "    .dataframe tbody tr th {\n",
              "        vertical-align: top;\n",
              "    }\n",
              "\n",
              "    .dataframe thead th {\n",
              "        text-align: right;\n",
              "    }\n",
              "</style>\n",
              "<table border=\"1\" class=\"dataframe\">\n",
              "  <thead>\n",
              "    <tr style=\"text-align: right;\">\n",
              "      <th></th>\n",
              "      <th>a</th>\n",
              "      <th>b</th>\n",
              "      <th>c</th>\n",
              "      <th>d</th>\n",
              "      <th>e</th>\n",
              "    </tr>\n",
              "  </thead>\n",
              "  <tbody>\n",
              "    <tr>\n",
              "      <th>1</th>\n",
              "      <td>1.835113</td>\n",
              "      <td>1.892611</td>\n",
              "      <td>1.710316</td>\n",
              "      <td>1.875238</td>\n",
              "      <td>1.038674</td>\n",
              "    </tr>\n",
              "    <tr>\n",
              "      <th>2</th>\n",
              "      <td>1.339034</td>\n",
              "      <td>1.836377</td>\n",
              "      <td>1.119457</td>\n",
              "      <td>1.412727</td>\n",
              "      <td>1.172455</td>\n",
              "    </tr>\n",
              "    <tr>\n",
              "      <th>3</th>\n",
              "      <td>1.854063</td>\n",
              "      <td>1.577084</td>\n",
              "      <td>1.330429</td>\n",
              "      <td>1.554417</td>\n",
              "      <td>1.235241</td>\n",
              "    </tr>\n",
              "    <tr>\n",
              "      <th>4</th>\n",
              "      <td>1.763586</td>\n",
              "      <td>1.561028</td>\n",
              "      <td>1.402987</td>\n",
              "      <td>1.406180</td>\n",
              "      <td>1.877235</td>\n",
              "    </tr>\n",
              "    <tr>\n",
              "      <th>5</th>\n",
              "      <td>1.702011</td>\n",
              "      <td>1.663579</td>\n",
              "      <td>1.908904</td>\n",
              "      <td>1.370217</td>\n",
              "      <td>1.261797</td>\n",
              "    </tr>\n",
              "    <tr>\n",
              "      <th>6</th>\n",
              "      <td>1.754426</td>\n",
              "      <td>1.131089</td>\n",
              "      <td>1.929699</td>\n",
              "      <td>1.599217</td>\n",
              "      <td>1.766996</td>\n",
              "    </tr>\n",
              "    <tr>\n",
              "      <th>7</th>\n",
              "      <td>1.311769</td>\n",
              "      <td>1.365350</td>\n",
              "      <td>1.515006</td>\n",
              "      <td>1.058527</td>\n",
              "      <td>1.075941</td>\n",
              "    </tr>\n",
              "    <tr>\n",
              "      <th>8</th>\n",
              "      <td>1.121064</td>\n",
              "      <td>1.413941</td>\n",
              "      <td>1.987193</td>\n",
              "      <td>1.247656</td>\n",
              "      <td>1.215411</td>\n",
              "    </tr>\n",
              "    <tr>\n",
              "      <th>9</th>\n",
              "      <td>1.342404</td>\n",
              "      <td>1.540960</td>\n",
              "      <td>1.346398</td>\n",
              "      <td>1.246016</td>\n",
              "      <td>1.770342</td>\n",
              "    </tr>\n",
              "    <tr>\n",
              "      <th>10</th>\n",
              "      <td>1.795597</td>\n",
              "      <td>1.186033</td>\n",
              "      <td>1.019870</td>\n",
              "      <td>1.585605</td>\n",
              "      <td>1.515235</td>\n",
              "    </tr>\n",
              "    <tr>\n",
              "      <th>11</th>\n",
              "      <td>1.741820</td>\n",
              "      <td>1.228336</td>\n",
              "      <td>1.081087</td>\n",
              "      <td>1.513660</td>\n",
              "      <td>1.203935</td>\n",
              "    </tr>\n",
              "    <tr>\n",
              "      <th>12</th>\n",
              "      <td>1.567843</td>\n",
              "      <td>1.867009</td>\n",
              "      <td>1.084930</td>\n",
              "      <td>1.514885</td>\n",
              "      <td>1.340504</td>\n",
              "    </tr>\n",
              "    <tr>\n",
              "      <th>13</th>\n",
              "      <td>1.220446</td>\n",
              "      <td>1.203560</td>\n",
              "      <td>1.377391</td>\n",
              "      <td>1.958066</td>\n",
              "      <td>1.010802</td>\n",
              "    </tr>\n",
              "    <tr>\n",
              "      <th>14</th>\n",
              "      <td>1.230069</td>\n",
              "      <td>1.756181</td>\n",
              "      <td>1.943916</td>\n",
              "      <td>1.393837</td>\n",
              "      <td>1.373920</td>\n",
              "    </tr>\n",
              "    <tr>\n",
              "      <th>15</th>\n",
              "      <td>1.515219</td>\n",
              "      <td>1.149593</td>\n",
              "      <td>1.543856</td>\n",
              "      <td>1.791770</td>\n",
              "      <td>1.288417</td>\n",
              "    </tr>\n",
              "    <tr>\n",
              "      <th>16</th>\n",
              "      <td>1.935745</td>\n",
              "      <td>1.097272</td>\n",
              "      <td>1.123406</td>\n",
              "      <td>1.016814</td>\n",
              "      <td>1.035143</td>\n",
              "    </tr>\n",
              "    <tr>\n",
              "      <th>17</th>\n",
              "      <td>1.663754</td>\n",
              "      <td>1.892753</td>\n",
              "      <td>1.916142</td>\n",
              "      <td>1.506120</td>\n",
              "      <td>1.605462</td>\n",
              "    </tr>\n",
              "    <tr>\n",
              "      <th>18</th>\n",
              "      <td>1.784225</td>\n",
              "      <td>1.427835</td>\n",
              "      <td>1.792568</td>\n",
              "      <td>1.748827</td>\n",
              "      <td>1.593984</td>\n",
              "    </tr>\n",
              "    <tr>\n",
              "      <th>19</th>\n",
              "      <td>1.997172</td>\n",
              "      <td>1.036056</td>\n",
              "      <td>1.747873</td>\n",
              "      <td>1.375648</td>\n",
              "      <td>1.321271</td>\n",
              "    </tr>\n",
              "    <tr>\n",
              "      <th>20</th>\n",
              "      <td>1.681314</td>\n",
              "      <td>1.086991</td>\n",
              "      <td>1.817104</td>\n",
              "      <td>1.341189</td>\n",
              "      <td>1.217564</td>\n",
              "    </tr>\n",
              "  </tbody>\n",
              "</table>\n",
              "</div>\n",
              "      <button class=\"colab-df-convert\" onclick=\"convertToInteractive('df-90ccddf7-5b5e-44d0-b351-d9a2976a9bcc')\"\n",
              "              title=\"Convert this dataframe to an interactive table.\"\n",
              "              style=\"display:none;\">\n",
              "        \n",
              "  <svg xmlns=\"http://www.w3.org/2000/svg\" height=\"24px\"viewBox=\"0 0 24 24\"\n",
              "       width=\"24px\">\n",
              "    <path d=\"M0 0h24v24H0V0z\" fill=\"none\"/>\n",
              "    <path d=\"M18.56 5.44l.94 2.06.94-2.06 2.06-.94-2.06-.94-.94-2.06-.94 2.06-2.06.94zm-11 1L8.5 8.5l.94-2.06 2.06-.94-2.06-.94L8.5 2.5l-.94 2.06-2.06.94zm10 10l.94 2.06.94-2.06 2.06-.94-2.06-.94-.94-2.06-.94 2.06-2.06.94z\"/><path d=\"M17.41 7.96l-1.37-1.37c-.4-.4-.92-.59-1.43-.59-.52 0-1.04.2-1.43.59L10.3 9.45l-7.72 7.72c-.78.78-.78 2.05 0 2.83L4 21.41c.39.39.9.59 1.41.59.51 0 1.02-.2 1.41-.59l7.78-7.78 2.81-2.81c.8-.78.8-2.07 0-2.86zM5.41 20L4 18.59l7.72-7.72 1.47 1.35L5.41 20z\"/>\n",
              "  </svg>\n",
              "      </button>\n",
              "      \n",
              "  <style>\n",
              "    .colab-df-container {\n",
              "      display:flex;\n",
              "      flex-wrap:wrap;\n",
              "      gap: 12px;\n",
              "    }\n",
              "\n",
              "    .colab-df-convert {\n",
              "      background-color: #E8F0FE;\n",
              "      border: none;\n",
              "      border-radius: 50%;\n",
              "      cursor: pointer;\n",
              "      display: none;\n",
              "      fill: #1967D2;\n",
              "      height: 32px;\n",
              "      padding: 0 0 0 0;\n",
              "      width: 32px;\n",
              "    }\n",
              "\n",
              "    .colab-df-convert:hover {\n",
              "      background-color: #E2EBFA;\n",
              "      box-shadow: 0px 1px 2px rgba(60, 64, 67, 0.3), 0px 1px 3px 1px rgba(60, 64, 67, 0.15);\n",
              "      fill: #174EA6;\n",
              "    }\n",
              "\n",
              "    [theme=dark] .colab-df-convert {\n",
              "      background-color: #3B4455;\n",
              "      fill: #D2E3FC;\n",
              "    }\n",
              "\n",
              "    [theme=dark] .colab-df-convert:hover {\n",
              "      background-color: #434B5C;\n",
              "      box-shadow: 0px 1px 3px 1px rgba(0, 0, 0, 0.15);\n",
              "      filter: drop-shadow(0px 1px 2px rgba(0, 0, 0, 0.3));\n",
              "      fill: #FFFFFF;\n",
              "    }\n",
              "  </style>\n",
              "\n",
              "      <script>\n",
              "        const buttonEl =\n",
              "          document.querySelector('#df-90ccddf7-5b5e-44d0-b351-d9a2976a9bcc button.colab-df-convert');\n",
              "        buttonEl.style.display =\n",
              "          google.colab.kernel.accessAllowed ? 'block' : 'none';\n",
              "\n",
              "        async function convertToInteractive(key) {\n",
              "          const element = document.querySelector('#df-90ccddf7-5b5e-44d0-b351-d9a2976a9bcc');\n",
              "          const dataTable =\n",
              "            await google.colab.kernel.invokeFunction('convertToInteractive',\n",
              "                                                     [key], {});\n",
              "          if (!dataTable) return;\n",
              "\n",
              "          const docLinkHtml = 'Like what you see? Visit the ' +\n",
              "            '<a target=\"_blank\" href=https://colab.research.google.com/notebooks/data_table.ipynb>data table notebook</a>'\n",
              "            + ' to learn more about interactive tables.';\n",
              "          element.innerHTML = '';\n",
              "          dataTable['output_type'] = 'display_data';\n",
              "          await google.colab.output.renderOutput(dataTable, element);\n",
              "          const docLink = document.createElement('div');\n",
              "          docLink.innerHTML = docLinkHtml;\n",
              "          element.appendChild(docLink);\n",
              "        }\n",
              "      </script>\n",
              "    </div>\n",
              "  </div>\n",
              "  "
            ]
          },
          "metadata": {},
          "execution_count": 45
        }
      ]
    },
    {
      "cell_type": "code",
      "source": [
        "max_std_dev=-1\n",
        "for i in range(len(col)):\n",
        "  max_std_dev=max(max_std_dev, df[col[i]].std())\n",
        "  \n",
        "max_std_dev"
      ],
      "metadata": {
        "colab": {
          "base_uri": "https://localhost:8080/"
        },
        "id": "qANNI6DeJ2yT",
        "outputId": "7175122b-1cf6-4cce-f566-a5b3cb144e12"
      },
      "execution_count": 46,
      "outputs": [
        {
          "output_type": "execute_result",
          "data": {
            "text/plain": [
              "0.33800782800504225"
            ]
          },
          "metadata": {},
          "execution_count": 46
        }
      ]
    },
    {
      "cell_type": "code",
      "source": [
        "# min_mean=-1\n",
        "# for i in range(len(rw)):\n",
        "#   min_mean=max(min_mean, df[rw[i]].mean())\n",
        "\n",
        "min(df.mean(axis = 1))"
      ],
      "metadata": {
        "colab": {
          "base_uri": "https://localhost:8080/"
        },
        "id": "oZA7qkwFLHpK",
        "outputId": "adffa3bc-4a60-416b-82c5-b1c959733e03"
      },
      "execution_count": 47,
      "outputs": [
        {
          "output_type": "execute_result",
          "data": {
            "text/plain": [
              "1.241675975432209"
            ]
          },
          "metadata": {},
          "execution_count": 47
        }
      ]
    },
    {
      "cell_type": "markdown",
      "source": [
        "Question 11"
      ],
      "metadata": {
        "id": "Vvrg9pjBMkhc"
      }
    },
    {
      "cell_type": "code",
      "source": [
        "df['f'] = df[col].sum(axis=1)\n",
        "df"
      ],
      "metadata": {
        "colab": {
          "base_uri": "https://localhost:8080/",
          "height": 677
        },
        "id": "tFfKFtdnL9wT",
        "outputId": "16df1708-8457-48e9-ae7d-92668e3f46c7"
      },
      "execution_count": 48,
      "outputs": [
        {
          "output_type": "execute_result",
          "data": {
            "text/plain": [
              "           a         b         c         d         e         f\n",
              "1   1.835113  1.892611  1.710316  1.875238  1.038674  8.351953\n",
              "2   1.339034  1.836377  1.119457  1.412727  1.172455  6.880050\n",
              "3   1.854063  1.577084  1.330429  1.554417  1.235241  7.551233\n",
              "4   1.763586  1.561028  1.402987  1.406180  1.877235  8.011016\n",
              "5   1.702011  1.663579  1.908904  1.370217  1.261797  7.906508\n",
              "6   1.754426  1.131089  1.929699  1.599217  1.766996  8.181427\n",
              "7   1.311769  1.365350  1.515006  1.058527  1.075941  6.326593\n",
              "8   1.121064  1.413941  1.987193  1.247656  1.215411  6.985266\n",
              "9   1.342404  1.540960  1.346398  1.246016  1.770342  7.246120\n",
              "10  1.795597  1.186033  1.019870  1.585605  1.515235  7.102341\n",
              "11  1.741820  1.228336  1.081087  1.513660  1.203935  6.768838\n",
              "12  1.567843  1.867009  1.084930  1.514885  1.340504  7.375172\n",
              "13  1.220446  1.203560  1.377391  1.958066  1.010802  6.770265\n",
              "14  1.230069  1.756181  1.943916  1.393837  1.373920  7.697924\n",
              "15  1.515219  1.149593  1.543856  1.791770  1.288417  7.288856\n",
              "16  1.935745  1.097272  1.123406  1.016814  1.035143  6.208380\n",
              "17  1.663754  1.892753  1.916142  1.506120  1.605462  8.584229\n",
              "18  1.784225  1.427835  1.792568  1.748827  1.593984  8.347438\n",
              "19  1.997172  1.036056  1.747873  1.375648  1.321271  7.478021\n",
              "20  1.681314  1.086991  1.817104  1.341189  1.217564  7.144163"
            ],
            "text/html": [
              "\n",
              "  <div id=\"df-887bec5c-d896-496f-aeab-3c7d0229c9ab\">\n",
              "    <div class=\"colab-df-container\">\n",
              "      <div>\n",
              "<style scoped>\n",
              "    .dataframe tbody tr th:only-of-type {\n",
              "        vertical-align: middle;\n",
              "    }\n",
              "\n",
              "    .dataframe tbody tr th {\n",
              "        vertical-align: top;\n",
              "    }\n",
              "\n",
              "    .dataframe thead th {\n",
              "        text-align: right;\n",
              "    }\n",
              "</style>\n",
              "<table border=\"1\" class=\"dataframe\">\n",
              "  <thead>\n",
              "    <tr style=\"text-align: right;\">\n",
              "      <th></th>\n",
              "      <th>a</th>\n",
              "      <th>b</th>\n",
              "      <th>c</th>\n",
              "      <th>d</th>\n",
              "      <th>e</th>\n",
              "      <th>f</th>\n",
              "    </tr>\n",
              "  </thead>\n",
              "  <tbody>\n",
              "    <tr>\n",
              "      <th>1</th>\n",
              "      <td>1.835113</td>\n",
              "      <td>1.892611</td>\n",
              "      <td>1.710316</td>\n",
              "      <td>1.875238</td>\n",
              "      <td>1.038674</td>\n",
              "      <td>8.351953</td>\n",
              "    </tr>\n",
              "    <tr>\n",
              "      <th>2</th>\n",
              "      <td>1.339034</td>\n",
              "      <td>1.836377</td>\n",
              "      <td>1.119457</td>\n",
              "      <td>1.412727</td>\n",
              "      <td>1.172455</td>\n",
              "      <td>6.880050</td>\n",
              "    </tr>\n",
              "    <tr>\n",
              "      <th>3</th>\n",
              "      <td>1.854063</td>\n",
              "      <td>1.577084</td>\n",
              "      <td>1.330429</td>\n",
              "      <td>1.554417</td>\n",
              "      <td>1.235241</td>\n",
              "      <td>7.551233</td>\n",
              "    </tr>\n",
              "    <tr>\n",
              "      <th>4</th>\n",
              "      <td>1.763586</td>\n",
              "      <td>1.561028</td>\n",
              "      <td>1.402987</td>\n",
              "      <td>1.406180</td>\n",
              "      <td>1.877235</td>\n",
              "      <td>8.011016</td>\n",
              "    </tr>\n",
              "    <tr>\n",
              "      <th>5</th>\n",
              "      <td>1.702011</td>\n",
              "      <td>1.663579</td>\n",
              "      <td>1.908904</td>\n",
              "      <td>1.370217</td>\n",
              "      <td>1.261797</td>\n",
              "      <td>7.906508</td>\n",
              "    </tr>\n",
              "    <tr>\n",
              "      <th>6</th>\n",
              "      <td>1.754426</td>\n",
              "      <td>1.131089</td>\n",
              "      <td>1.929699</td>\n",
              "      <td>1.599217</td>\n",
              "      <td>1.766996</td>\n",
              "      <td>8.181427</td>\n",
              "    </tr>\n",
              "    <tr>\n",
              "      <th>7</th>\n",
              "      <td>1.311769</td>\n",
              "      <td>1.365350</td>\n",
              "      <td>1.515006</td>\n",
              "      <td>1.058527</td>\n",
              "      <td>1.075941</td>\n",
              "      <td>6.326593</td>\n",
              "    </tr>\n",
              "    <tr>\n",
              "      <th>8</th>\n",
              "      <td>1.121064</td>\n",
              "      <td>1.413941</td>\n",
              "      <td>1.987193</td>\n",
              "      <td>1.247656</td>\n",
              "      <td>1.215411</td>\n",
              "      <td>6.985266</td>\n",
              "    </tr>\n",
              "    <tr>\n",
              "      <th>9</th>\n",
              "      <td>1.342404</td>\n",
              "      <td>1.540960</td>\n",
              "      <td>1.346398</td>\n",
              "      <td>1.246016</td>\n",
              "      <td>1.770342</td>\n",
              "      <td>7.246120</td>\n",
              "    </tr>\n",
              "    <tr>\n",
              "      <th>10</th>\n",
              "      <td>1.795597</td>\n",
              "      <td>1.186033</td>\n",
              "      <td>1.019870</td>\n",
              "      <td>1.585605</td>\n",
              "      <td>1.515235</td>\n",
              "      <td>7.102341</td>\n",
              "    </tr>\n",
              "    <tr>\n",
              "      <th>11</th>\n",
              "      <td>1.741820</td>\n",
              "      <td>1.228336</td>\n",
              "      <td>1.081087</td>\n",
              "      <td>1.513660</td>\n",
              "      <td>1.203935</td>\n",
              "      <td>6.768838</td>\n",
              "    </tr>\n",
              "    <tr>\n",
              "      <th>12</th>\n",
              "      <td>1.567843</td>\n",
              "      <td>1.867009</td>\n",
              "      <td>1.084930</td>\n",
              "      <td>1.514885</td>\n",
              "      <td>1.340504</td>\n",
              "      <td>7.375172</td>\n",
              "    </tr>\n",
              "    <tr>\n",
              "      <th>13</th>\n",
              "      <td>1.220446</td>\n",
              "      <td>1.203560</td>\n",
              "      <td>1.377391</td>\n",
              "      <td>1.958066</td>\n",
              "      <td>1.010802</td>\n",
              "      <td>6.770265</td>\n",
              "    </tr>\n",
              "    <tr>\n",
              "      <th>14</th>\n",
              "      <td>1.230069</td>\n",
              "      <td>1.756181</td>\n",
              "      <td>1.943916</td>\n",
              "      <td>1.393837</td>\n",
              "      <td>1.373920</td>\n",
              "      <td>7.697924</td>\n",
              "    </tr>\n",
              "    <tr>\n",
              "      <th>15</th>\n",
              "      <td>1.515219</td>\n",
              "      <td>1.149593</td>\n",
              "      <td>1.543856</td>\n",
              "      <td>1.791770</td>\n",
              "      <td>1.288417</td>\n",
              "      <td>7.288856</td>\n",
              "    </tr>\n",
              "    <tr>\n",
              "      <th>16</th>\n",
              "      <td>1.935745</td>\n",
              "      <td>1.097272</td>\n",
              "      <td>1.123406</td>\n",
              "      <td>1.016814</td>\n",
              "      <td>1.035143</td>\n",
              "      <td>6.208380</td>\n",
              "    </tr>\n",
              "    <tr>\n",
              "      <th>17</th>\n",
              "      <td>1.663754</td>\n",
              "      <td>1.892753</td>\n",
              "      <td>1.916142</td>\n",
              "      <td>1.506120</td>\n",
              "      <td>1.605462</td>\n",
              "      <td>8.584229</td>\n",
              "    </tr>\n",
              "    <tr>\n",
              "      <th>18</th>\n",
              "      <td>1.784225</td>\n",
              "      <td>1.427835</td>\n",
              "      <td>1.792568</td>\n",
              "      <td>1.748827</td>\n",
              "      <td>1.593984</td>\n",
              "      <td>8.347438</td>\n",
              "    </tr>\n",
              "    <tr>\n",
              "      <th>19</th>\n",
              "      <td>1.997172</td>\n",
              "      <td>1.036056</td>\n",
              "      <td>1.747873</td>\n",
              "      <td>1.375648</td>\n",
              "      <td>1.321271</td>\n",
              "      <td>7.478021</td>\n",
              "    </tr>\n",
              "    <tr>\n",
              "      <th>20</th>\n",
              "      <td>1.681314</td>\n",
              "      <td>1.086991</td>\n",
              "      <td>1.817104</td>\n",
              "      <td>1.341189</td>\n",
              "      <td>1.217564</td>\n",
              "      <td>7.144163</td>\n",
              "    </tr>\n",
              "  </tbody>\n",
              "</table>\n",
              "</div>\n",
              "      <button class=\"colab-df-convert\" onclick=\"convertToInteractive('df-887bec5c-d896-496f-aeab-3c7d0229c9ab')\"\n",
              "              title=\"Convert this dataframe to an interactive table.\"\n",
              "              style=\"display:none;\">\n",
              "        \n",
              "  <svg xmlns=\"http://www.w3.org/2000/svg\" height=\"24px\"viewBox=\"0 0 24 24\"\n",
              "       width=\"24px\">\n",
              "    <path d=\"M0 0h24v24H0V0z\" fill=\"none\"/>\n",
              "    <path d=\"M18.56 5.44l.94 2.06.94-2.06 2.06-.94-2.06-.94-.94-2.06-.94 2.06-2.06.94zm-11 1L8.5 8.5l.94-2.06 2.06-.94-2.06-.94L8.5 2.5l-.94 2.06-2.06.94zm10 10l.94 2.06.94-2.06 2.06-.94-2.06-.94-.94-2.06-.94 2.06-2.06.94z\"/><path d=\"M17.41 7.96l-1.37-1.37c-.4-.4-.92-.59-1.43-.59-.52 0-1.04.2-1.43.59L10.3 9.45l-7.72 7.72c-.78.78-.78 2.05 0 2.83L4 21.41c.39.39.9.59 1.41.59.51 0 1.02-.2 1.41-.59l7.78-7.78 2.81-2.81c.8-.78.8-2.07 0-2.86zM5.41 20L4 18.59l7.72-7.72 1.47 1.35L5.41 20z\"/>\n",
              "  </svg>\n",
              "      </button>\n",
              "      \n",
              "  <style>\n",
              "    .colab-df-container {\n",
              "      display:flex;\n",
              "      flex-wrap:wrap;\n",
              "      gap: 12px;\n",
              "    }\n",
              "\n",
              "    .colab-df-convert {\n",
              "      background-color: #E8F0FE;\n",
              "      border: none;\n",
              "      border-radius: 50%;\n",
              "      cursor: pointer;\n",
              "      display: none;\n",
              "      fill: #1967D2;\n",
              "      height: 32px;\n",
              "      padding: 0 0 0 0;\n",
              "      width: 32px;\n",
              "    }\n",
              "\n",
              "    .colab-df-convert:hover {\n",
              "      background-color: #E2EBFA;\n",
              "      box-shadow: 0px 1px 2px rgba(60, 64, 67, 0.3), 0px 1px 3px 1px rgba(60, 64, 67, 0.15);\n",
              "      fill: #174EA6;\n",
              "    }\n",
              "\n",
              "    [theme=dark] .colab-df-convert {\n",
              "      background-color: #3B4455;\n",
              "      fill: #D2E3FC;\n",
              "    }\n",
              "\n",
              "    [theme=dark] .colab-df-convert:hover {\n",
              "      background-color: #434B5C;\n",
              "      box-shadow: 0px 1px 3px 1px rgba(0, 0, 0, 0.15);\n",
              "      filter: drop-shadow(0px 1px 2px rgba(0, 0, 0, 0.3));\n",
              "      fill: #FFFFFF;\n",
              "    }\n",
              "  </style>\n",
              "\n",
              "      <script>\n",
              "        const buttonEl =\n",
              "          document.querySelector('#df-887bec5c-d896-496f-aeab-3c7d0229c9ab button.colab-df-convert');\n",
              "        buttonEl.style.display =\n",
              "          google.colab.kernel.accessAllowed ? 'block' : 'none';\n",
              "\n",
              "        async function convertToInteractive(key) {\n",
              "          const element = document.querySelector('#df-887bec5c-d896-496f-aeab-3c7d0229c9ab');\n",
              "          const dataTable =\n",
              "            await google.colab.kernel.invokeFunction('convertToInteractive',\n",
              "                                                     [key], {});\n",
              "          if (!dataTable) return;\n",
              "\n",
              "          const docLinkHtml = 'Like what you see? Visit the ' +\n",
              "            '<a target=\"_blank\" href=https://colab.research.google.com/notebooks/data_table.ipynb>data table notebook</a>'\n",
              "            + ' to learn more about interactive tables.';\n",
              "          element.innerHTML = '';\n",
              "          dataTable['output_type'] = 'display_data';\n",
              "          await google.colab.output.renderOutput(dataTable, element);\n",
              "          const docLink = document.createElement('div');\n",
              "          docLink.innerHTML = docLinkHtml;\n",
              "          element.appendChild(docLink);\n",
              "        }\n",
              "      </script>\n",
              "    </div>\n",
              "  </div>\n",
              "  "
            ]
          },
          "metadata": {},
          "execution_count": 48
        }
      ]
    },
    {
      "cell_type": "code",
      "source": [
        "df['g'] = ['GT8' if x >8 else 'LT8' for x in df['f']]\n",
        "df"
      ],
      "metadata": {
        "colab": {
          "base_uri": "https://localhost:8080/",
          "height": 677
        },
        "id": "PG4nAIw5N8VU",
        "outputId": "2e6341b9-e0cb-4360-d582-6973d1c33e2d"
      },
      "execution_count": 49,
      "outputs": [
        {
          "output_type": "execute_result",
          "data": {
            "text/plain": [
              "           a         b         c         d         e         f    g\n",
              "1   1.835113  1.892611  1.710316  1.875238  1.038674  8.351953  GT8\n",
              "2   1.339034  1.836377  1.119457  1.412727  1.172455  6.880050  LT8\n",
              "3   1.854063  1.577084  1.330429  1.554417  1.235241  7.551233  LT8\n",
              "4   1.763586  1.561028  1.402987  1.406180  1.877235  8.011016  GT8\n",
              "5   1.702011  1.663579  1.908904  1.370217  1.261797  7.906508  LT8\n",
              "6   1.754426  1.131089  1.929699  1.599217  1.766996  8.181427  GT8\n",
              "7   1.311769  1.365350  1.515006  1.058527  1.075941  6.326593  LT8\n",
              "8   1.121064  1.413941  1.987193  1.247656  1.215411  6.985266  LT8\n",
              "9   1.342404  1.540960  1.346398  1.246016  1.770342  7.246120  LT8\n",
              "10  1.795597  1.186033  1.019870  1.585605  1.515235  7.102341  LT8\n",
              "11  1.741820  1.228336  1.081087  1.513660  1.203935  6.768838  LT8\n",
              "12  1.567843  1.867009  1.084930  1.514885  1.340504  7.375172  LT8\n",
              "13  1.220446  1.203560  1.377391  1.958066  1.010802  6.770265  LT8\n",
              "14  1.230069  1.756181  1.943916  1.393837  1.373920  7.697924  LT8\n",
              "15  1.515219  1.149593  1.543856  1.791770  1.288417  7.288856  LT8\n",
              "16  1.935745  1.097272  1.123406  1.016814  1.035143  6.208380  LT8\n",
              "17  1.663754  1.892753  1.916142  1.506120  1.605462  8.584229  GT8\n",
              "18  1.784225  1.427835  1.792568  1.748827  1.593984  8.347438  GT8\n",
              "19  1.997172  1.036056  1.747873  1.375648  1.321271  7.478021  LT8\n",
              "20  1.681314  1.086991  1.817104  1.341189  1.217564  7.144163  LT8"
            ],
            "text/html": [
              "\n",
              "  <div id=\"df-737c3713-5d39-473f-8fac-5c21ad2b6bc1\">\n",
              "    <div class=\"colab-df-container\">\n",
              "      <div>\n",
              "<style scoped>\n",
              "    .dataframe tbody tr th:only-of-type {\n",
              "        vertical-align: middle;\n",
              "    }\n",
              "\n",
              "    .dataframe tbody tr th {\n",
              "        vertical-align: top;\n",
              "    }\n",
              "\n",
              "    .dataframe thead th {\n",
              "        text-align: right;\n",
              "    }\n",
              "</style>\n",
              "<table border=\"1\" class=\"dataframe\">\n",
              "  <thead>\n",
              "    <tr style=\"text-align: right;\">\n",
              "      <th></th>\n",
              "      <th>a</th>\n",
              "      <th>b</th>\n",
              "      <th>c</th>\n",
              "      <th>d</th>\n",
              "      <th>e</th>\n",
              "      <th>f</th>\n",
              "      <th>g</th>\n",
              "    </tr>\n",
              "  </thead>\n",
              "  <tbody>\n",
              "    <tr>\n",
              "      <th>1</th>\n",
              "      <td>1.835113</td>\n",
              "      <td>1.892611</td>\n",
              "      <td>1.710316</td>\n",
              "      <td>1.875238</td>\n",
              "      <td>1.038674</td>\n",
              "      <td>8.351953</td>\n",
              "      <td>GT8</td>\n",
              "    </tr>\n",
              "    <tr>\n",
              "      <th>2</th>\n",
              "      <td>1.339034</td>\n",
              "      <td>1.836377</td>\n",
              "      <td>1.119457</td>\n",
              "      <td>1.412727</td>\n",
              "      <td>1.172455</td>\n",
              "      <td>6.880050</td>\n",
              "      <td>LT8</td>\n",
              "    </tr>\n",
              "    <tr>\n",
              "      <th>3</th>\n",
              "      <td>1.854063</td>\n",
              "      <td>1.577084</td>\n",
              "      <td>1.330429</td>\n",
              "      <td>1.554417</td>\n",
              "      <td>1.235241</td>\n",
              "      <td>7.551233</td>\n",
              "      <td>LT8</td>\n",
              "    </tr>\n",
              "    <tr>\n",
              "      <th>4</th>\n",
              "      <td>1.763586</td>\n",
              "      <td>1.561028</td>\n",
              "      <td>1.402987</td>\n",
              "      <td>1.406180</td>\n",
              "      <td>1.877235</td>\n",
              "      <td>8.011016</td>\n",
              "      <td>GT8</td>\n",
              "    </tr>\n",
              "    <tr>\n",
              "      <th>5</th>\n",
              "      <td>1.702011</td>\n",
              "      <td>1.663579</td>\n",
              "      <td>1.908904</td>\n",
              "      <td>1.370217</td>\n",
              "      <td>1.261797</td>\n",
              "      <td>7.906508</td>\n",
              "      <td>LT8</td>\n",
              "    </tr>\n",
              "    <tr>\n",
              "      <th>6</th>\n",
              "      <td>1.754426</td>\n",
              "      <td>1.131089</td>\n",
              "      <td>1.929699</td>\n",
              "      <td>1.599217</td>\n",
              "      <td>1.766996</td>\n",
              "      <td>8.181427</td>\n",
              "      <td>GT8</td>\n",
              "    </tr>\n",
              "    <tr>\n",
              "      <th>7</th>\n",
              "      <td>1.311769</td>\n",
              "      <td>1.365350</td>\n",
              "      <td>1.515006</td>\n",
              "      <td>1.058527</td>\n",
              "      <td>1.075941</td>\n",
              "      <td>6.326593</td>\n",
              "      <td>LT8</td>\n",
              "    </tr>\n",
              "    <tr>\n",
              "      <th>8</th>\n",
              "      <td>1.121064</td>\n",
              "      <td>1.413941</td>\n",
              "      <td>1.987193</td>\n",
              "      <td>1.247656</td>\n",
              "      <td>1.215411</td>\n",
              "      <td>6.985266</td>\n",
              "      <td>LT8</td>\n",
              "    </tr>\n",
              "    <tr>\n",
              "      <th>9</th>\n",
              "      <td>1.342404</td>\n",
              "      <td>1.540960</td>\n",
              "      <td>1.346398</td>\n",
              "      <td>1.246016</td>\n",
              "      <td>1.770342</td>\n",
              "      <td>7.246120</td>\n",
              "      <td>LT8</td>\n",
              "    </tr>\n",
              "    <tr>\n",
              "      <th>10</th>\n",
              "      <td>1.795597</td>\n",
              "      <td>1.186033</td>\n",
              "      <td>1.019870</td>\n",
              "      <td>1.585605</td>\n",
              "      <td>1.515235</td>\n",
              "      <td>7.102341</td>\n",
              "      <td>LT8</td>\n",
              "    </tr>\n",
              "    <tr>\n",
              "      <th>11</th>\n",
              "      <td>1.741820</td>\n",
              "      <td>1.228336</td>\n",
              "      <td>1.081087</td>\n",
              "      <td>1.513660</td>\n",
              "      <td>1.203935</td>\n",
              "      <td>6.768838</td>\n",
              "      <td>LT8</td>\n",
              "    </tr>\n",
              "    <tr>\n",
              "      <th>12</th>\n",
              "      <td>1.567843</td>\n",
              "      <td>1.867009</td>\n",
              "      <td>1.084930</td>\n",
              "      <td>1.514885</td>\n",
              "      <td>1.340504</td>\n",
              "      <td>7.375172</td>\n",
              "      <td>LT8</td>\n",
              "    </tr>\n",
              "    <tr>\n",
              "      <th>13</th>\n",
              "      <td>1.220446</td>\n",
              "      <td>1.203560</td>\n",
              "      <td>1.377391</td>\n",
              "      <td>1.958066</td>\n",
              "      <td>1.010802</td>\n",
              "      <td>6.770265</td>\n",
              "      <td>LT8</td>\n",
              "    </tr>\n",
              "    <tr>\n",
              "      <th>14</th>\n",
              "      <td>1.230069</td>\n",
              "      <td>1.756181</td>\n",
              "      <td>1.943916</td>\n",
              "      <td>1.393837</td>\n",
              "      <td>1.373920</td>\n",
              "      <td>7.697924</td>\n",
              "      <td>LT8</td>\n",
              "    </tr>\n",
              "    <tr>\n",
              "      <th>15</th>\n",
              "      <td>1.515219</td>\n",
              "      <td>1.149593</td>\n",
              "      <td>1.543856</td>\n",
              "      <td>1.791770</td>\n",
              "      <td>1.288417</td>\n",
              "      <td>7.288856</td>\n",
              "      <td>LT8</td>\n",
              "    </tr>\n",
              "    <tr>\n",
              "      <th>16</th>\n",
              "      <td>1.935745</td>\n",
              "      <td>1.097272</td>\n",
              "      <td>1.123406</td>\n",
              "      <td>1.016814</td>\n",
              "      <td>1.035143</td>\n",
              "      <td>6.208380</td>\n",
              "      <td>LT8</td>\n",
              "    </tr>\n",
              "    <tr>\n",
              "      <th>17</th>\n",
              "      <td>1.663754</td>\n",
              "      <td>1.892753</td>\n",
              "      <td>1.916142</td>\n",
              "      <td>1.506120</td>\n",
              "      <td>1.605462</td>\n",
              "      <td>8.584229</td>\n",
              "      <td>GT8</td>\n",
              "    </tr>\n",
              "    <tr>\n",
              "      <th>18</th>\n",
              "      <td>1.784225</td>\n",
              "      <td>1.427835</td>\n",
              "      <td>1.792568</td>\n",
              "      <td>1.748827</td>\n",
              "      <td>1.593984</td>\n",
              "      <td>8.347438</td>\n",
              "      <td>GT8</td>\n",
              "    </tr>\n",
              "    <tr>\n",
              "      <th>19</th>\n",
              "      <td>1.997172</td>\n",
              "      <td>1.036056</td>\n",
              "      <td>1.747873</td>\n",
              "      <td>1.375648</td>\n",
              "      <td>1.321271</td>\n",
              "      <td>7.478021</td>\n",
              "      <td>LT8</td>\n",
              "    </tr>\n",
              "    <tr>\n",
              "      <th>20</th>\n",
              "      <td>1.681314</td>\n",
              "      <td>1.086991</td>\n",
              "      <td>1.817104</td>\n",
              "      <td>1.341189</td>\n",
              "      <td>1.217564</td>\n",
              "      <td>7.144163</td>\n",
              "      <td>LT8</td>\n",
              "    </tr>\n",
              "  </tbody>\n",
              "</table>\n",
              "</div>\n",
              "      <button class=\"colab-df-convert\" onclick=\"convertToInteractive('df-737c3713-5d39-473f-8fac-5c21ad2b6bc1')\"\n",
              "              title=\"Convert this dataframe to an interactive table.\"\n",
              "              style=\"display:none;\">\n",
              "        \n",
              "  <svg xmlns=\"http://www.w3.org/2000/svg\" height=\"24px\"viewBox=\"0 0 24 24\"\n",
              "       width=\"24px\">\n",
              "    <path d=\"M0 0h24v24H0V0z\" fill=\"none\"/>\n",
              "    <path d=\"M18.56 5.44l.94 2.06.94-2.06 2.06-.94-2.06-.94-.94-2.06-.94 2.06-2.06.94zm-11 1L8.5 8.5l.94-2.06 2.06-.94-2.06-.94L8.5 2.5l-.94 2.06-2.06.94zm10 10l.94 2.06.94-2.06 2.06-.94-2.06-.94-.94-2.06-.94 2.06-2.06.94z\"/><path d=\"M17.41 7.96l-1.37-1.37c-.4-.4-.92-.59-1.43-.59-.52 0-1.04.2-1.43.59L10.3 9.45l-7.72 7.72c-.78.78-.78 2.05 0 2.83L4 21.41c.39.39.9.59 1.41.59.51 0 1.02-.2 1.41-.59l7.78-7.78 2.81-2.81c.8-.78.8-2.07 0-2.86zM5.41 20L4 18.59l7.72-7.72 1.47 1.35L5.41 20z\"/>\n",
              "  </svg>\n",
              "      </button>\n",
              "      \n",
              "  <style>\n",
              "    .colab-df-container {\n",
              "      display:flex;\n",
              "      flex-wrap:wrap;\n",
              "      gap: 12px;\n",
              "    }\n",
              "\n",
              "    .colab-df-convert {\n",
              "      background-color: #E8F0FE;\n",
              "      border: none;\n",
              "      border-radius: 50%;\n",
              "      cursor: pointer;\n",
              "      display: none;\n",
              "      fill: #1967D2;\n",
              "      height: 32px;\n",
              "      padding: 0 0 0 0;\n",
              "      width: 32px;\n",
              "    }\n",
              "\n",
              "    .colab-df-convert:hover {\n",
              "      background-color: #E2EBFA;\n",
              "      box-shadow: 0px 1px 2px rgba(60, 64, 67, 0.3), 0px 1px 3px 1px rgba(60, 64, 67, 0.15);\n",
              "      fill: #174EA6;\n",
              "    }\n",
              "\n",
              "    [theme=dark] .colab-df-convert {\n",
              "      background-color: #3B4455;\n",
              "      fill: #D2E3FC;\n",
              "    }\n",
              "\n",
              "    [theme=dark] .colab-df-convert:hover {\n",
              "      background-color: #434B5C;\n",
              "      box-shadow: 0px 1px 3px 1px rgba(0, 0, 0, 0.15);\n",
              "      filter: drop-shadow(0px 1px 2px rgba(0, 0, 0, 0.3));\n",
              "      fill: #FFFFFF;\n",
              "    }\n",
              "  </style>\n",
              "\n",
              "      <script>\n",
              "        const buttonEl =\n",
              "          document.querySelector('#df-737c3713-5d39-473f-8fac-5c21ad2b6bc1 button.colab-df-convert');\n",
              "        buttonEl.style.display =\n",
              "          google.colab.kernel.accessAllowed ? 'block' : 'none';\n",
              "\n",
              "        async function convertToInteractive(key) {\n",
              "          const element = document.querySelector('#df-737c3713-5d39-473f-8fac-5c21ad2b6bc1');\n",
              "          const dataTable =\n",
              "            await google.colab.kernel.invokeFunction('convertToInteractive',\n",
              "                                                     [key], {});\n",
              "          if (!dataTable) return;\n",
              "\n",
              "          const docLinkHtml = 'Like what you see? Visit the ' +\n",
              "            '<a target=\"_blank\" href=https://colab.research.google.com/notebooks/data_table.ipynb>data table notebook</a>'\n",
              "            + ' to learn more about interactive tables.';\n",
              "          element.innerHTML = '';\n",
              "          dataTable['output_type'] = 'display_data';\n",
              "          await google.colab.output.renderOutput(dataTable, element);\n",
              "          const docLink = document.createElement('div');\n",
              "          docLink.innerHTML = docLinkHtml;\n",
              "          element.appendChild(docLink);\n",
              "        }\n",
              "      </script>\n",
              "    </div>\n",
              "  </div>\n",
              "  "
            ]
          },
          "metadata": {},
          "execution_count": 49
        }
      ]
    },
    {
      "cell_type": "code",
      "source": [
        "GT8=[]\n",
        "LT8=[]\n",
        "\n",
        "cnt_lt8=0\n",
        "for x in df['f']:\n",
        "  if x<8:\n",
        "    cnt_lt8+=1\n",
        "    LT8.append(x)\n",
        "  else:\n",
        "    GT8.append(x)\n",
        "cnt_lt8"
      ],
      "metadata": {
        "colab": {
          "base_uri": "https://localhost:8080/"
        },
        "id": "g-zTRRmYPgAK",
        "outputId": "9f868067-b233-4bb3-dd79-078c4c825cdf"
      },
      "execution_count": 50,
      "outputs": [
        {
          "output_type": "execute_result",
          "data": {
            "text/plain": [
              "15"
            ]
          },
          "metadata": {},
          "execution_count": 50
        }
      ]
    },
    {
      "cell_type": "code",
      "source": [
        "np.std(GT8)"
      ],
      "metadata": {
        "colab": {
          "base_uri": "https://localhost:8080/"
        },
        "id": "XUXn55Q5fJVw",
        "outputId": "42c7cc2e-0736-4da4-ec6f-26018b5c7daf"
      },
      "execution_count": 51,
      "outputs": [
        {
          "output_type": "execute_result",
          "data": {
            "text/plain": [
              "0.19141183900212294"
            ]
          },
          "metadata": {},
          "execution_count": 51
        }
      ]
    },
    {
      "cell_type": "code",
      "source": [
        "np.std(LT8)"
      ],
      "metadata": {
        "colab": {
          "base_uri": "https://localhost:8080/"
        },
        "id": "eNUIY6rIgVcX",
        "outputId": "fb230afc-1a9a-4f5d-c64a-0d7febf982e2"
      },
      "execution_count": 52,
      "outputs": [
        {
          "output_type": "execute_result",
          "data": {
            "text/plain": [
              "0.4588924109215383"
            ]
          },
          "metadata": {},
          "execution_count": 52
        }
      ]
    },
    {
      "cell_type": "markdown",
      "source": [
        "Question 12"
      ],
      "metadata": {
        "id": "8fPY_vbprYIo"
      }
    },
    {
      "cell_type": "code",
      "source": [
        "arr=np.random.rand(3,2)\n",
        "brr=np.random.rand(1,2)\n",
        "\n",
        "def checkbroadcast(arr,brr):\n",
        "  try:\n",
        "    return arr+brr\n",
        "  except:\n",
        "    return \"not possible\"\n",
        "\n",
        "checkbroadcast(arr,brr)"
      ],
      "metadata": {
        "colab": {
          "base_uri": "https://localhost:8080/"
        },
        "id": "a13YTgXlrZ_0",
        "outputId": "c8c85312-838f-4873-b5e0-5540153338f4"
      },
      "execution_count": 55,
      "outputs": [
        {
          "output_type": "execute_result",
          "data": {
            "text/plain": [
              "array([[0.21907865, 0.74492741],\n",
              "       [0.35555777, 0.77628493],\n",
              "       [0.60408391, 0.29884541]])"
            ]
          },
          "metadata": {},
          "execution_count": 55
        }
      ]
    },
    {
      "cell_type": "markdown",
      "source": [
        "Question 13"
      ],
      "metadata": {
        "id": "I1fBkbC6Bt1r"
      }
    },
    {
      "cell_type": "code",
      "source": [
        "def argmin(np_arr):\n",
        "  min_ind=-1\n",
        "  min_val=np_arr[0]\n",
        "  for i in range(1,len(np_arr)):\n",
        "    if np_arr[i]<=min_val:\n",
        "      min_val=np_arr[i]\n",
        "      min_ind=i\n",
        "  return min_ind"
      ],
      "metadata": {
        "id": "DGrrDw0jBwp7"
      },
      "execution_count": 56,
      "outputs": []
    },
    {
      "cell_type": "code",
      "source": [
        "np_arr = np.array([1,-200,-1,0,9,-99,10])\n",
        "argmin(np_arr)"
      ],
      "metadata": {
        "colab": {
          "base_uri": "https://localhost:8080/"
        },
        "id": "LfugVuLNCtl7",
        "outputId": "0896ee6b-9007-495d-c82a-1382dcbe66e7"
      },
      "execution_count": 57,
      "outputs": [
        {
          "output_type": "execute_result",
          "data": {
            "text/plain": [
              "1"
            ]
          },
          "metadata": {},
          "execution_count": 57
        }
      ]
    },
    {
      "cell_type": "code",
      "source": [
        "np.argmin(np_arr)"
      ],
      "metadata": {
        "colab": {
          "base_uri": "https://localhost:8080/"
        },
        "id": "rgrSerA0DP7q",
        "outputId": "5a340915-66df-4360-f56b-0bdb857c359f"
      },
      "execution_count": 58,
      "outputs": [
        {
          "output_type": "execute_result",
          "data": {
            "text/plain": [
              "1"
            ]
          },
          "metadata": {},
          "execution_count": 58
        }
      ]
    }
  ]
}